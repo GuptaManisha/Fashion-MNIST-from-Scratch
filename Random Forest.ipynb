{
 "cells": [
  {
   "cell_type": "markdown",
   "metadata": {},
   "source": [
    "# COMP5318 - Machine Learning and Data Mining: Assignment 1\n",
    "<div style=\"text-align: right\"> Due: Tuesday 8 Oct 2019 5:00PM </div>"
   ]
  },
  {
   "cell_type": "markdown",
   "metadata": {
    "nbpresent": {
     "id": "375753da-1c6c-4b02-986a-6e3b185a5869"
    }
   },
   "source": [
    "# Summary\n",
    "The goal of this assignment is to build a classifier to classify some grayscale images of the size 28x28 into a set of categories. The dimension of the original data is large, so you need to be smart on which method you gonna use and perhaps perform a pre-processing step to reduce the amount of computation. Part of your marks will be a function of the performance of your classifier on the test set."
   ]
  },
  {
   "cell_type": "markdown",
   "metadata": {},
   "source": [
    "## Dataset description\n",
    "The dataset can be downloaded from Canvas. The dataset consists of a training set of 30,000 examples and a test set of 5,000 examples. They belong to 10 different categories. The validation set is not provided, but you can randomly pick a subset of the training set for validation. The labels of the first 2,000 test examples are given, you will analyse the performance of your proposed method by exploiting the 2,000 test examples. It is NOT allowed to use any examples from the test set for training; or it will be considered as cheating. The rest 3,000 labels of the test set are reserved for marking purpose. <br />\n",
    "Here are examples illustrating sample of the dataset (each class takes one row):"
   ]
  },
  {
   "cell_type": "markdown",
   "metadata": {},
   "source": [
    "<img src=\"Dataset_image.jpg\" alt=\"DataSet\" title=\"DataSet\" width=\"450\" height=\"300\" />"
   ]
  },
  {
   "cell_type": "markdown",
   "metadata": {},
   "source": [
    "There are 10 classes in total:<br />\n",
    "0 T-shirt/Top<br />\n",
    "1 Trouser<br />\n",
    "2 Pullover<br />\n",
    "3 Dress<br />\n",
    "4 Coat<br />\n",
    "5 Sandal<br />\n",
    "6 Shirt<br />\n",
    "7 Sneaker<br />\n",
    "8 Bag<br />\n",
    "9 Ankle boot <br />"
   ]
  },
  {
   "cell_type": "markdown",
   "metadata": {},
   "source": [
    "### How to load the data\n",
    "There is a data folder with 4 main files (which can be downloaded from Canvas):\n",
    "    1. images_training.h5\n",
    "    2. labels_training.h5\n",
    "    3. images_testing.h5\n",
    "    4. labels_testing_2000.h5"
   ]
  },
  {
   "cell_type": "markdown",
   "metadata": {},
   "source": [
    "To read the hdf5 file and load the data into a numpy array, assuming the **training data files are in the ./data/train** and **testing data file are in ./data/test**. <br /> Use the following code:"
   ]
  },
  {
   "cell_type": "markdown",
   "metadata": {},
   "source": [
    "Then data would be a numpy array of the shape (30000, 784), and\n",
    "label would be a numpy array of the shape (30000, ).\n",
    "The file images_testing.h5 can be loaded in a similar way."
   ]
  },
  {
   "cell_type": "code",
   "execution_count": 1,
   "metadata": {},
   "outputs": [],
   "source": [
    "import h5py\n",
    "import numpy as np\n",
    "import matplotlib.pyplot as plt\n",
    "import os\n",
    "import pandas as pd\n",
    "from scipy.sparse import csr_matrix"
   ]
  },
  {
   "cell_type": "code",
   "execution_count": 2,
   "metadata": {},
   "outputs": [
    {
     "name": "stdout",
     "output_type": "stream",
     "text": [
      "(30000, 784) (30000,)\n"
     ]
    }
   ],
   "source": [
    "with h5py.File('images_training.h5','r') as H:\n",
    "    data_train = np.copy(H['datatrain'])\n",
    "with h5py.File('labels_training.h5','r') as H:\n",
    "    label_train = np.copy(H['labeltrain'])\n",
    "\n",
    "print(data_train.shape,label_train.shape)"
   ]
  },
  {
   "cell_type": "code",
   "execution_count": 3,
   "metadata": {},
   "outputs": [
    {
     "name": "stdout",
     "output_type": "stream",
     "text": [
      "1.0\n",
      "0.0\n"
     ]
    }
   ],
   "source": [
    "#check the maximum and minimum dataset\n",
    "print(np.max(data_train))\n",
    "print(np.min(data_train))"
   ]
  },
  {
   "cell_type": "code",
   "execution_count": 4,
   "metadata": {},
   "outputs": [
    {
     "data": {
      "text/html": [
       "<div>\n",
       "<style scoped>\n",
       "    .dataframe tbody tr th:only-of-type {\n",
       "        vertical-align: middle;\n",
       "    }\n",
       "\n",
       "    .dataframe tbody tr th {\n",
       "        vertical-align: top;\n",
       "    }\n",
       "\n",
       "    .dataframe thead th {\n",
       "        text-align: right;\n",
       "    }\n",
       "</style>\n",
       "<table border=\"1\" class=\"dataframe\">\n",
       "  <thead>\n",
       "    <tr style=\"text-align: right;\">\n",
       "      <th></th>\n",
       "      <th>0</th>\n",
       "      <th>1</th>\n",
       "      <th>2</th>\n",
       "      <th>3</th>\n",
       "      <th>4</th>\n",
       "      <th>5</th>\n",
       "      <th>6</th>\n",
       "      <th>7</th>\n",
       "      <th>8</th>\n",
       "      <th>9</th>\n",
       "      <th>...</th>\n",
       "      <th>774</th>\n",
       "      <th>775</th>\n",
       "      <th>776</th>\n",
       "      <th>777</th>\n",
       "      <th>778</th>\n",
       "      <th>779</th>\n",
       "      <th>780</th>\n",
       "      <th>781</th>\n",
       "      <th>782</th>\n",
       "      <th>783</th>\n",
       "    </tr>\n",
       "  </thead>\n",
       "  <tbody>\n",
       "    <tr>\n",
       "      <th>0</th>\n",
       "      <td>0.0</td>\n",
       "      <td>0.0</td>\n",
       "      <td>0.0</td>\n",
       "      <td>0.0</td>\n",
       "      <td>0.0</td>\n",
       "      <td>0.000000</td>\n",
       "      <td>0.0</td>\n",
       "      <td>0.0</td>\n",
       "      <td>0.070588</td>\n",
       "      <td>0.396078</td>\n",
       "      <td>...</td>\n",
       "      <td>0.639216</td>\n",
       "      <td>0.596078</td>\n",
       "      <td>0.486275</td>\n",
       "      <td>0.517647</td>\n",
       "      <td>0.164706</td>\n",
       "      <td>0.0</td>\n",
       "      <td>0.0</td>\n",
       "      <td>0.0</td>\n",
       "      <td>0.0</td>\n",
       "      <td>0.0</td>\n",
       "    </tr>\n",
       "    <tr>\n",
       "      <th>1</th>\n",
       "      <td>0.0</td>\n",
       "      <td>0.0</td>\n",
       "      <td>0.0</td>\n",
       "      <td>0.0</td>\n",
       "      <td>0.0</td>\n",
       "      <td>0.000000</td>\n",
       "      <td>0.0</td>\n",
       "      <td>0.0</td>\n",
       "      <td>0.000000</td>\n",
       "      <td>0.521569</td>\n",
       "      <td>...</td>\n",
       "      <td>0.352941</td>\n",
       "      <td>0.000000</td>\n",
       "      <td>0.000000</td>\n",
       "      <td>0.000000</td>\n",
       "      <td>0.000000</td>\n",
       "      <td>0.0</td>\n",
       "      <td>0.0</td>\n",
       "      <td>0.0</td>\n",
       "      <td>0.0</td>\n",
       "      <td>0.0</td>\n",
       "    </tr>\n",
       "    <tr>\n",
       "      <th>2</th>\n",
       "      <td>0.0</td>\n",
       "      <td>0.0</td>\n",
       "      <td>0.0</td>\n",
       "      <td>0.0</td>\n",
       "      <td>0.0</td>\n",
       "      <td>0.000000</td>\n",
       "      <td>0.0</td>\n",
       "      <td>0.0</td>\n",
       "      <td>0.000000</td>\n",
       "      <td>0.000000</td>\n",
       "      <td>...</td>\n",
       "      <td>0.000000</td>\n",
       "      <td>0.000000</td>\n",
       "      <td>0.000000</td>\n",
       "      <td>0.000000</td>\n",
       "      <td>0.000000</td>\n",
       "      <td>0.0</td>\n",
       "      <td>0.0</td>\n",
       "      <td>0.0</td>\n",
       "      <td>0.0</td>\n",
       "      <td>0.0</td>\n",
       "    </tr>\n",
       "    <tr>\n",
       "      <th>3</th>\n",
       "      <td>0.0</td>\n",
       "      <td>0.0</td>\n",
       "      <td>0.0</td>\n",
       "      <td>0.0</td>\n",
       "      <td>0.0</td>\n",
       "      <td>0.003922</td>\n",
       "      <td>0.0</td>\n",
       "      <td>0.0</td>\n",
       "      <td>0.286275</td>\n",
       "      <td>0.219608</td>\n",
       "      <td>...</td>\n",
       "      <td>0.000000</td>\n",
       "      <td>0.000000</td>\n",
       "      <td>0.000000</td>\n",
       "      <td>0.000000</td>\n",
       "      <td>0.000000</td>\n",
       "      <td>0.0</td>\n",
       "      <td>0.0</td>\n",
       "      <td>0.0</td>\n",
       "      <td>0.0</td>\n",
       "      <td>0.0</td>\n",
       "    </tr>\n",
       "    <tr>\n",
       "      <th>4</th>\n",
       "      <td>0.0</td>\n",
       "      <td>0.0</td>\n",
       "      <td>0.0</td>\n",
       "      <td>0.0</td>\n",
       "      <td>0.0</td>\n",
       "      <td>0.000000</td>\n",
       "      <td>0.0</td>\n",
       "      <td>0.0</td>\n",
       "      <td>0.000000</td>\n",
       "      <td>0.086275</td>\n",
       "      <td>...</td>\n",
       "      <td>0.223529</td>\n",
       "      <td>0.250980</td>\n",
       "      <td>0.125490</td>\n",
       "      <td>0.000000</td>\n",
       "      <td>0.007843</td>\n",
       "      <td>0.0</td>\n",
       "      <td>0.0</td>\n",
       "      <td>0.0</td>\n",
       "      <td>0.0</td>\n",
       "      <td>0.0</td>\n",
       "    </tr>\n",
       "  </tbody>\n",
       "</table>\n",
       "<p>5 rows × 784 columns</p>\n",
       "</div>"
      ],
      "text/plain": [
       "   0    1    2    3    4         5    6    7         8         9   ...   \\\n",
       "0  0.0  0.0  0.0  0.0  0.0  0.000000  0.0  0.0  0.070588  0.396078 ...    \n",
       "1  0.0  0.0  0.0  0.0  0.0  0.000000  0.0  0.0  0.000000  0.521569 ...    \n",
       "2  0.0  0.0  0.0  0.0  0.0  0.000000  0.0  0.0  0.000000  0.000000 ...    \n",
       "3  0.0  0.0  0.0  0.0  0.0  0.003922  0.0  0.0  0.286275  0.219608 ...    \n",
       "4  0.0  0.0  0.0  0.0  0.0  0.000000  0.0  0.0  0.000000  0.086275 ...    \n",
       "\n",
       "        774       775       776       777       778  779  780  781  782  783  \n",
       "0  0.639216  0.596078  0.486275  0.517647  0.164706  0.0  0.0  0.0  0.0  0.0  \n",
       "1  0.352941  0.000000  0.000000  0.000000  0.000000  0.0  0.0  0.0  0.0  0.0  \n",
       "2  0.000000  0.000000  0.000000  0.000000  0.000000  0.0  0.0  0.0  0.0  0.0  \n",
       "3  0.000000  0.000000  0.000000  0.000000  0.000000  0.0  0.0  0.0  0.0  0.0  \n",
       "4  0.223529  0.250980  0.125490  0.000000  0.007843  0.0  0.0  0.0  0.0  0.0  \n",
       "\n",
       "[5 rows x 784 columns]"
      ]
     },
     "execution_count": 4,
     "metadata": {},
     "output_type": "execute_result"
    }
   ],
   "source": [
    "#create label and training data\n",
    "label_train = pd.DataFrame(label_train) \n",
    "data_train = pd.DataFrame(data_train) \n",
    "data_train.head()"
   ]
  },
  {
   "cell_type": "code",
   "execution_count": 5,
   "metadata": {},
   "outputs": [
    {
     "data": {
      "text/html": [
       "<div>\n",
       "<style scoped>\n",
       "    .dataframe tbody tr th:only-of-type {\n",
       "        vertical-align: middle;\n",
       "    }\n",
       "\n",
       "    .dataframe tbody tr th {\n",
       "        vertical-align: top;\n",
       "    }\n",
       "\n",
       "    .dataframe thead th {\n",
       "        text-align: right;\n",
       "    }\n",
       "</style>\n",
       "<table border=\"1\" class=\"dataframe\">\n",
       "  <thead>\n",
       "    <tr style=\"text-align: right;\">\n",
       "      <th></th>\n",
       "      <th>0</th>\n",
       "    </tr>\n",
       "  </thead>\n",
       "  <tbody>\n",
       "    <tr>\n",
       "      <th>0</th>\n",
       "      <td>0</td>\n",
       "    </tr>\n",
       "    <tr>\n",
       "      <th>1</th>\n",
       "      <td>3</td>\n",
       "    </tr>\n",
       "    <tr>\n",
       "      <th>2</th>\n",
       "      <td>7</td>\n",
       "    </tr>\n",
       "    <tr>\n",
       "      <th>3</th>\n",
       "      <td>3</td>\n",
       "    </tr>\n",
       "    <tr>\n",
       "      <th>4</th>\n",
       "      <td>0</td>\n",
       "    </tr>\n",
       "  </tbody>\n",
       "</table>\n",
       "</div>"
      ],
      "text/plain": [
       "   0\n",
       "0  0\n",
       "1  3\n",
       "2  7\n",
       "3  3\n",
       "4  0"
      ]
     },
     "execution_count": 5,
     "metadata": {},
     "output_type": "execute_result"
    }
   ],
   "source": [
    "#quickly check our labls\n",
    "label_train.head()"
   ]
  },
  {
   "cell_type": "code",
   "execution_count": 6,
   "metadata": {},
   "outputs": [
    {
     "name": "stdout",
     "output_type": "stream",
     "text": [
      "   0    1    2    3    4         5    6    7         8         9   ...   \\\n",
      "0  0.0  0.0  0.0  0.0  0.0  0.000000  0.0  0.0  0.070588  0.396078 ...    \n",
      "1  0.0  0.0  0.0  0.0  0.0  0.000000  0.0  0.0  0.000000  0.521569 ...    \n",
      "2  0.0  0.0  0.0  0.0  0.0  0.000000  0.0  0.0  0.000000  0.000000 ...    \n",
      "3  0.0  0.0  0.0  0.0  0.0  0.003922  0.0  0.0  0.286275  0.219608 ...    \n",
      "4  0.0  0.0  0.0  0.0  0.0  0.000000  0.0  0.0  0.000000  0.086275 ...    \n",
      "\n",
      "        774       775       776       777       778  779  780  781  782  783  \n",
      "0  0.639216  0.596078  0.486275  0.517647  0.164706  0.0  0.0  0.0  0.0  0.0  \n",
      "1  0.352941  0.000000  0.000000  0.000000  0.000000  0.0  0.0  0.0  0.0  0.0  \n",
      "2  0.000000  0.000000  0.000000  0.000000  0.000000  0.0  0.0  0.0  0.0  0.0  \n",
      "3  0.000000  0.000000  0.000000  0.000000  0.000000  0.0  0.0  0.0  0.0  0.0  \n",
      "4  0.223529  0.250980  0.125490  0.000000  0.007843  0.0  0.0  0.0  0.0  0.0  \n",
      "\n",
      "[5 rows x 784 columns]\n",
      "<class 'pandas.core.frame.DataFrame'>\n",
      "RangeIndex: 30000 entries, 0 to 29999\n",
      "Columns: 784 entries, 0 to 783\n",
      "dtypes: float32(784)\n",
      "memory usage: 89.7 MB\n",
      "None\n",
      "\n",
      " Shape of our dataset: (30000, 784)\n"
     ]
    }
   ],
   "source": [
    "print(data_train.head())\n",
    "print(data_train.info())\n",
    "print(\"\\n Shape of our dataset:\", data_train.shape)"
   ]
  },
  {
   "cell_type": "code",
   "execution_count": 7,
   "metadata": {},
   "outputs": [
    {
     "name": "stdout",
     "output_type": "stream",
     "text": [
      "Series([], dtype: int64)\n"
     ]
    }
   ],
   "source": [
    "#check for Nan value\n",
    "null = data_train.isnull().sum()\n",
    "print(null[null != 0])"
   ]
  },
  {
   "cell_type": "code",
   "execution_count": 8,
   "metadata": {},
   "outputs": [
    {
     "data": {
      "image/png": "[encoded data removed]",
      "text/plain": [
       "<Figure size 432x288 with 1 Axes>"
      ]
     },
     "metadata": {
      "needs_background": "light"
     },
     "output_type": "display_data"
    }
   ],
   "source": [
    "#check if our data is imbalance\n",
    "_ = label_train[0].value_counts().plot(kind='bar')\n",
    "plt.show()"
   ]
  },
  {
   "cell_type": "code",
   "execution_count": 9,
   "metadata": {},
   "outputs": [
    {
     "name": "stdout",
     "output_type": "stream",
     "text": [
      "Sneaker             :   3053 or 10.176666666666668%\n",
      "Shirt               :   3035 or 10.116666666666667%\n",
      "Trouser             :   3022 or 10.073333333333332%\n",
      "Ankle Boot          :   3014 or 10.046666666666667%\n",
      "Pullover            :   3011 or 10.036666666666667%\n",
      "Sandal              :   3008 or 10.026666666666667%\n",
      "Dress               :   2984 or 9.946666666666665%\n",
      "Bag                 :   2966 or 9.886666666666667%\n",
      "T-shirt/top         :   2960 or 9.866666666666667%\n",
      "Coat                :   2947 or 9.823333333333334%\n"
     ]
    }
   ],
   "source": [
    "# Create a dictionary for each type of label \n",
    "labels = {0 : \"T-shirt/top\", 1: \"Trouser\", 2: \"Pullover\", 3: \"Dress\", 4: \"Coat\",\n",
    "          5: \"Sandal\", 6: \"Shirt\", 7: \"Sneaker\", 8: \"Bag\", 9: \"Ankle Boot\"}\n",
    "\n",
    "def get_classes_distribution(data):\n",
    "    # Get the count for each label\n",
    "    label_counts = label_train[0].value_counts()\n",
    "\n",
    "    # Get total number of samples\n",
    "    total_samples = len(data)\n",
    "\n",
    "\n",
    "    # Count the number of items in each class\n",
    "    for i in range(len(label_counts)):\n",
    "        label = labels[label_counts.index[i]]\n",
    "        count = label_counts.values[i]\n",
    "        percent = (count / total_samples) * 100\n",
    "        print(\"{:<20s}:   {} or {}%\".format(label, count, percent))\n",
    "\n",
    "get_classes_distribution(data_train)"
   ]
  },
  {
   "cell_type": "code",
   "execution_count": 10,
   "metadata": {},
   "outputs": [
    {
     "data": {
      "image/png": "[encoded data removed]",
      "text/plain": [
       "<Figure size 432x288 with 10 Axes>"
      ]
     },
     "metadata": {},
     "output_type": "display_data"
    },
    {
     "data": {
      "image/png": "[encoded data removed]",
      "text/plain": [
       "<Figure size 432x288 with 2 Axes>"
      ]
     },
     "metadata": {
      "needs_background": "light"
     },
     "output_type": "display_data"
    }
   ],
   "source": [
    "data_train_preview = data_train.values.reshape((data_train.shape[0], 28, 28))\n",
    "\n",
    "    \n",
    "train_preview = data_train\n",
    "images = range(10)\n",
    "    \n",
    "subset = train_preview.iloc[images,:]\n",
    "    \n",
    "subset.index = range(1, 11)    \n",
    "    \n",
    "for i, row in subset.iterrows():\n",
    "        \n",
    "    plt.subplot(2, 5, i)\n",
    "    pixel = row.values.reshape((28,28))\n",
    "    plt.imshow(pixel, cmap=plt.get_cmap('gray'))\n",
    "    plt.xticks([])\n",
    "    plt.yticks([])\n",
    "    \n",
    "plt.figure()\n",
    "plt.imshow(data_train_preview[0], cmap=plt.get_cmap('gray'))\n",
    "plt.title(\"first immage\" + \"class \" + str(label_train.at[0,0]) + \": T-shirt/Top\" )\n",
    "plt.colorbar()\n",
    "plt.grid(False)\n",
    "    \n",
    "plt.show()"
   ]
  },
  {
   "cell_type": "code",
   "execution_count": 113,
   "metadata": {},
   "outputs": [
    {
     "name": "stdout",
     "output_type": "stream",
     "text": [
      "(2000, 784) (2000,)\n"
     ]
    }
   ],
   "source": [
    "# using H['datatest'], H['labeltest'] for test dataset.\n",
    "\n",
    "with h5py.File('images_testing.h5','r') as H:\n",
    "    data_test = np.copy(H['datatest'])\n",
    "with h5py.File('labels_testing_2000.h5','r') as H:\n",
    "    label_test = np.copy(H['labeltest'])\n",
    "    data_test = data_test[0:2000,]\n",
    "\n",
    "print(data_test.shape,label_test.shape)"
   ]
  },
  {
   "cell_type": "code",
   "execution_count": 114,
   "metadata": {},
   "outputs": [
    {
     "data": {
      "text/html": [
       "<div>\n",
       "<style scoped>\n",
       "    .dataframe tbody tr th:only-of-type {\n",
       "        vertical-align: middle;\n",
       "    }\n",
       "\n",
       "    .dataframe tbody tr th {\n",
       "        vertical-align: top;\n",
       "    }\n",
       "\n",
       "    .dataframe thead th {\n",
       "        text-align: right;\n",
       "    }\n",
       "</style>\n",
       "<table border=\"1\" class=\"dataframe\">\n",
       "  <thead>\n",
       "    <tr style=\"text-align: right;\">\n",
       "      <th></th>\n",
       "      <th>0</th>\n",
       "      <th>1</th>\n",
       "      <th>2</th>\n",
       "      <th>3</th>\n",
       "      <th>4</th>\n",
       "      <th>5</th>\n",
       "      <th>6</th>\n",
       "      <th>7</th>\n",
       "      <th>8</th>\n",
       "      <th>9</th>\n",
       "      <th>...</th>\n",
       "      <th>774</th>\n",
       "      <th>775</th>\n",
       "      <th>776</th>\n",
       "      <th>777</th>\n",
       "      <th>778</th>\n",
       "      <th>779</th>\n",
       "      <th>780</th>\n",
       "      <th>781</th>\n",
       "      <th>782</th>\n",
       "      <th>783</th>\n",
       "    </tr>\n",
       "  </thead>\n",
       "  <tbody>\n",
       "    <tr>\n",
       "      <th>0</th>\n",
       "      <td>0.0</td>\n",
       "      <td>0.0</td>\n",
       "      <td>0.0</td>\n",
       "      <td>0.0</td>\n",
       "      <td>0.0</td>\n",
       "      <td>0.0</td>\n",
       "      <td>0.0</td>\n",
       "      <td>0.0</td>\n",
       "      <td>0.0</td>\n",
       "      <td>0.000000</td>\n",
       "      <td>...</td>\n",
       "      <td>0.588235</td>\n",
       "      <td>0.0</td>\n",
       "      <td>0.0</td>\n",
       "      <td>0.000000</td>\n",
       "      <td>0.0</td>\n",
       "      <td>0.0</td>\n",
       "      <td>0.0</td>\n",
       "      <td>0.0</td>\n",
       "      <td>0.0</td>\n",
       "      <td>0.0</td>\n",
       "    </tr>\n",
       "    <tr>\n",
       "      <th>1</th>\n",
       "      <td>0.0</td>\n",
       "      <td>0.0</td>\n",
       "      <td>0.0</td>\n",
       "      <td>0.0</td>\n",
       "      <td>0.0</td>\n",
       "      <td>0.0</td>\n",
       "      <td>0.0</td>\n",
       "      <td>0.0</td>\n",
       "      <td>0.0</td>\n",
       "      <td>0.137255</td>\n",
       "      <td>...</td>\n",
       "      <td>0.372549</td>\n",
       "      <td>0.0</td>\n",
       "      <td>0.0</td>\n",
       "      <td>0.011765</td>\n",
       "      <td>0.0</td>\n",
       "      <td>0.0</td>\n",
       "      <td>0.0</td>\n",
       "      <td>0.0</td>\n",
       "      <td>0.0</td>\n",
       "      <td>0.0</td>\n",
       "    </tr>\n",
       "    <tr>\n",
       "      <th>2</th>\n",
       "      <td>0.0</td>\n",
       "      <td>0.0</td>\n",
       "      <td>0.0</td>\n",
       "      <td>0.0</td>\n",
       "      <td>0.0</td>\n",
       "      <td>0.0</td>\n",
       "      <td>0.0</td>\n",
       "      <td>0.0</td>\n",
       "      <td>0.0</td>\n",
       "      <td>0.000000</td>\n",
       "      <td>...</td>\n",
       "      <td>0.000000</td>\n",
       "      <td>0.0</td>\n",
       "      <td>0.0</td>\n",
       "      <td>0.000000</td>\n",
       "      <td>0.0</td>\n",
       "      <td>0.0</td>\n",
       "      <td>0.0</td>\n",
       "      <td>0.0</td>\n",
       "      <td>0.0</td>\n",
       "      <td>0.0</td>\n",
       "    </tr>\n",
       "    <tr>\n",
       "      <th>3</th>\n",
       "      <td>0.0</td>\n",
       "      <td>0.0</td>\n",
       "      <td>0.0</td>\n",
       "      <td>0.0</td>\n",
       "      <td>0.0</td>\n",
       "      <td>0.0</td>\n",
       "      <td>0.0</td>\n",
       "      <td>0.0</td>\n",
       "      <td>0.0</td>\n",
       "      <td>0.062745</td>\n",
       "      <td>...</td>\n",
       "      <td>0.000000</td>\n",
       "      <td>0.0</td>\n",
       "      <td>0.0</td>\n",
       "      <td>0.000000</td>\n",
       "      <td>0.0</td>\n",
       "      <td>0.0</td>\n",
       "      <td>0.0</td>\n",
       "      <td>0.0</td>\n",
       "      <td>0.0</td>\n",
       "      <td>0.0</td>\n",
       "    </tr>\n",
       "    <tr>\n",
       "      <th>4</th>\n",
       "      <td>0.0</td>\n",
       "      <td>0.0</td>\n",
       "      <td>0.0</td>\n",
       "      <td>0.0</td>\n",
       "      <td>0.0</td>\n",
       "      <td>0.0</td>\n",
       "      <td>0.0</td>\n",
       "      <td>0.0</td>\n",
       "      <td>0.0</td>\n",
       "      <td>0.000000</td>\n",
       "      <td>...</td>\n",
       "      <td>0.027451</td>\n",
       "      <td>0.0</td>\n",
       "      <td>0.0</td>\n",
       "      <td>0.000000</td>\n",
       "      <td>0.0</td>\n",
       "      <td>0.0</td>\n",
       "      <td>0.0</td>\n",
       "      <td>0.0</td>\n",
       "      <td>0.0</td>\n",
       "      <td>0.0</td>\n",
       "    </tr>\n",
       "  </tbody>\n",
       "</table>\n",
       "<p>5 rows × 784 columns</p>\n",
       "</div>"
      ],
      "text/plain": [
       "   0    1    2    3    4    5    6    7    8         9   ...        774  775  \\\n",
       "0  0.0  0.0  0.0  0.0  0.0  0.0  0.0  0.0  0.0  0.000000 ...   0.588235  0.0   \n",
       "1  0.0  0.0  0.0  0.0  0.0  0.0  0.0  0.0  0.0  0.137255 ...   0.372549  0.0   \n",
       "2  0.0  0.0  0.0  0.0  0.0  0.0  0.0  0.0  0.0  0.000000 ...   0.000000  0.0   \n",
       "3  0.0  0.0  0.0  0.0  0.0  0.0  0.0  0.0  0.0  0.062745 ...   0.000000  0.0   \n",
       "4  0.0  0.0  0.0  0.0  0.0  0.0  0.0  0.0  0.0  0.000000 ...   0.027451  0.0   \n",
       "\n",
       "   776       777  778  779  780  781  782  783  \n",
       "0  0.0  0.000000  0.0  0.0  0.0  0.0  0.0  0.0  \n",
       "1  0.0  0.011765  0.0  0.0  0.0  0.0  0.0  0.0  \n",
       "2  0.0  0.000000  0.0  0.0  0.0  0.0  0.0  0.0  \n",
       "3  0.0  0.000000  0.0  0.0  0.0  0.0  0.0  0.0  \n",
       "4  0.0  0.000000  0.0  0.0  0.0  0.0  0.0  0.0  \n",
       "\n",
       "[5 rows x 784 columns]"
      ]
     },
     "execution_count": 114,
     "metadata": {},
     "output_type": "execute_result"
    }
   ],
   "source": [
    "#create label and training data\n",
    "label_test = pd.DataFrame(label_test) \n",
    "data_test = pd.DataFrame(data_test) \n",
    "data_test.head()"
   ]
  },
  {
   "cell_type": "code",
   "execution_count": 13,
   "metadata": {},
   "outputs": [
    {
     "data": {
      "image/png": "[encoded data removed]",
      "text/plain": [
       "<Figure size 432x288 with 10 Axes>"
      ]
     },
     "metadata": {},
     "output_type": "display_data"
    },
    {
     "data": {
      "image/png": "[encoded data removed]",
      "text/plain": [
       "<Figure size 432x288 with 2 Axes>"
      ]
     },
     "metadata": {
      "needs_background": "light"
     },
     "output_type": "display_data"
    }
   ],
   "source": [
    "data_test_preview = data_test.values.reshape((data_test.shape[0], 28, 28))\n",
    "\n",
    "#Show the first n test data\n",
    "\n",
    "test_preview = data_test\n",
    "images = range(10)\n",
    "    \n",
    "subset = test_preview.iloc[images,:]\n",
    "    \n",
    "subset.index = range(1, 11)\n",
    "    \n",
    "for i, row in subset.iterrows():\n",
    "        \n",
    "    plt.subplot(2, 5, i)\n",
    "    pixel = row.values.reshape((28,28))\n",
    "    plt.imshow(pixel, cmap=plt.get_cmap('gray'))\n",
    "    plt.xticks([])\n",
    "    plt.yticks([])\n",
    "    \n",
    "plt.figure()\n",
    "plt.imshow(data_test_preview[0], cmap=plt.get_cmap('gray'))\n",
    "plt.title(\"first immage\" + \"class \" + str(label_test.at[0,0]) + \": Trouser\" )\n",
    "plt.colorbar()\n",
    "plt.grid(False)\n",
    "    \n",
    "plt.show()"
   ]
  },
  {
   "cell_type": "markdown",
   "metadata": {},
   "source": [
    "# Random Forest < online algorithm >"
   ]
  },
  {
   "cell_type": "code",
   "execution_count": 14,
   "metadata": {},
   "outputs": [],
   "source": [
    "from scipy import stats\n",
    "from scipy.stats import entropy"
   ]
  },
  {
   "cell_type": "code",
   "execution_count": 47,
   "metadata": {},
   "outputs": [],
   "source": [
    "#Class for our Random Forest model\n",
    "class RandomForest():\n",
    "    \n",
    "    #Create our fit function: use this to fit the model\n",
    "    def fit(self, x, y, size, n_trees = 6, depth=10, min_leaf=5):\n",
    "        np.random.seed(100)\n",
    "        #populate our variables\n",
    "        self.x, self.y, self.size, self.depth, self.min_leaf  = x.values, y.values, size, depth, min_leaf\n",
    "        #create trees based on the number of n_trees\n",
    "        self.trees = [self.create_tree() for i in range(n_trees)]\n",
    "\n",
    "    #This model is use to create trees to populate our forest\n",
    "    def create_tree(self):\n",
    "        \n",
    "        #randomly select sample for each tree\n",
    "        sample_idx = np.random.permutation(len(self.y))[:self.size]\n",
    "        print(\"List of selected sample used in our tree:\",sample_idx)\n",
    "        \n",
    "        #list of index based on the size of our each tree size\n",
    "        self.id = np.array(range(len(sample_idx)))\n",
    "        #call the decision tree function\n",
    "        return DecisionTree(self.x[sample_idx], self.y[sample_idx],\n",
    "                            self.id, \n",
    "                            depth = self.depth, \n",
    "                            min_leaf = self.min_leaf)\n",
    "    \n",
    "    #Use this to create prediction; we'll use the mode to pick the most common result\n",
    "    def predict(self, x):\n",
    "        return stats.mode([t.predict(x) for t in self.trees], axis=0)\n",
    "\n",
    "#Class for the decission tree to populate our Random Forest models\n",
    "\n",
    "class DecisionTree():\n",
    "    \n",
    "    #Function to create the trees\n",
    "    def __init__(self, x, y,id,depth=10, min_leaf=5):\n",
    "        self.x, self.y, self.id, self.min_leaf = x, y, id, min_leaf\n",
    "        self.depth = depth\n",
    "        self.n = len(id)\n",
    "        self.col_x = x.shape[1]\n",
    "        self.val = np.mean(y[id])\n",
    "        self.score = np.inf\n",
    "        self.find_split()\n",
    "    \n",
    "    #define the split for our tree and recall the Dicision Tree to create the lower child/ branch\n",
    "    def find_split(self):\n",
    "        for i in range(self.col_x): self.best_split(i)\n",
    "        if self.score == np.inf or self.depth <= 0: return \n",
    "        x = self.x[self.id,self.var_id]\n",
    "        \n",
    "        #get the index on left and right\n",
    "        left = np.nonzero(x<=self.split)[0]\n",
    "        right = np.nonzero(x>self.split)[0]\n",
    "        \n",
    "        #create the decision tree based on the index we have\n",
    "        self.left = DecisionTree(self.x, self.y, self.id[left], depth=self.depth-1, min_leaf=self.min_leaf)\n",
    "        self.right = DecisionTree(self.x, self.y, self.id[right], depth=self.depth-1, min_leaf=self.min_leaf)\n",
    "\n",
    "    def std(self,count, s1, s2): return np.sqrt((s2/count) - (s1/count)**2)\n",
    "    \n",
    "    #Detremine the best split for our dataset\n",
    "    def best_split(self, var_id):\n",
    "        x, y = self.x[self.id,var_id], self.y[self.id]\n",
    "        sort_i = np.argsort(x, kind = \"mergesort\")\n",
    "        sort_y,sort_x = y[sort_i], x[sort_i]        \n",
    "        \n",
    "        rhs_cnt,rhs_sum,rhs_sum2 = self.n, sort_y.sum(), (sort_y**2).sum()\n",
    "        lhs_cnt,lhs_sum,lhs_sum2 = 0,0.,0.\n",
    "\n",
    "        for i in range(0,self.n-self.min_leaf-1):\n",
    "            lhs_cnt += 1; rhs_cnt -= 1\n",
    "            lhs_sum += sort_y[i]; rhs_sum -= sort_y[i]\n",
    "            lhs_sum2 += sort_y[i]**2; rhs_sum2 -= sort_y[i]**2\n",
    "            if i<self.min_leaf or sort_x[i]==sort_x[i+1]:\n",
    "                continue\n",
    "\n",
    "            lhs_std = self.std(lhs_cnt, lhs_sum, lhs_sum2)\n",
    "            rhs_std = self.std(rhs_cnt, rhs_sum, rhs_sum2)\n",
    "            curr_score = lhs_std*lhs_cnt + rhs_std*rhs_cnt\n",
    "            if curr_score<self.score: \n",
    "                self.var_id,self.score,self.split = var_id,curr_score,sort_x[i]\n",
    "    \n",
    "    #Function to create our prediction\n",
    "    def predict(self, x):\n",
    "        return np.array([self.predict_row(xi) for xi in x])\n",
    "\n",
    "    def predict_row(self, xi):\n",
    "        if self.score == float('inf') or self.depth <= 0: return self.val\n",
    "        t = self.left if xi[self.var_id]<=self.split else self.right\n",
    "        return t.predict_row(xi)"
   ]
  },
  {
   "cell_type": "code",
   "execution_count": 48,
   "metadata": {},
   "outputs": [
    {
     "name": "stdout",
     "output_type": "stream",
     "text": [
      "List of selected sample used in our tree: [ 2917  2234 14396  1781 11102   732  7692 10589 16098  4920  6601  7611\n",
      "  3825 18755  6862  3847  7256 13711 12389  9772  2535 11564 14222  1017\n",
      " 10121 13672 11271   124 10457  2829   439  2110 13636  7523 11490 14473\n",
      " 18324  5413  4977  4063  5964 13875 12475  5723 19565  6222 19889 17676\n",
      " 12013   189]\n",
      "List of selected sample used in our tree: [19506 11313  3213  9770  4511  9531 16313 10205 15042 16041 19325 13244\n",
      " 16813 13728 14950  8149 12024 11006 13423  6157  1877 14306 11452 19574\n",
      " 18976  8531 15613  1736 17705 12003  2509 19233 11162  5643  6571  9041\n",
      " 13557 13260 13190 15996  6929  1647 17595  8223 16027 14205 19708  8518\n",
      "  3376 14421]\n",
      "List of selected sample used in our tree: [ 9799 19176  3128 15991  5545  8528  5646  7448  6114 18785  7150  7479\n",
      "  3331  2067 10972  8737 18602 10519  9047  8485  1454 14353  4362  6928\n",
      "  2753  4390 15909  1510  6467 17149  5216  2878  5503 18516 16346  7098\n",
      " 14005  7523  9597  6324 14924  6458   775 19969 19241  5028  5182 17391\n",
      "  1378 12254]\n",
      "List of selected sample used in our tree: [19003  1437  4316 13228 14057 18820  9938 14621 19902  8198 19198 15510\n",
      "  2354  2700 11552  6200 10584   363 11099 11755 16749  3696  3129 15923\n",
      " 14334 10402 14586  3232 15111  8675 17837  9113  3565 19853 14508  6563\n",
      "   999 19334  1056  2655  4994  6110 10783 11670 19972  9509 19466  7033\n",
      "  8481  5925]\n",
      "List of selected sample used in our tree: [12079 12159 17140 16733  4425   854  7977 16296   995  5435 15328 10300\n",
      " 17905 16132  3820 16858  8957  7772 10350  9725 17263 11998  3675 13387\n",
      "  9828  5334 10883  3895  5349 12447  8596  7615 14111 11060 15104 19606\n",
      "  2897 18627 18848 17092  8754 12431  5952 16180 14443   654  8771 16696\n",
      "  1190  2603]\n",
      "List of selected sample used in our tree: [ 9470 19266 15436  3434   421  9346  5800 18168  3237   791  9961 19142\n",
      "  8844 10677 10889 16142 13606 16059 14375 10737 10723 11397  9300 16495\n",
      "   152  4785 16396 13978  1021   440  3948 12244  9121 17586  6419  8540\n",
      "  8050  7847  9412  4921  4764 14682  2092  1988 13539 18987   437 14448\n",
      " 12603  8768]\n",
      "List of selected sample used in our tree: [ 4319   153  7526 15151 10758  8322  9763 11489  2137 19321  5769 12727\n",
      " 12398 11151  5425  3849 15948  8753 16386  4349 18192   314 14032 18652\n",
      " 16375 18967  8508 17608 14564  1721 10545  5723  9406  5966  9143 13922\n",
      "  6271 16995 11973  6344 10922   213  6243  4419 19278 16392  9114 18595\n",
      " 16706 13293]\n",
      "List of selected sample used in our tree: [ 3714 18474  8771  7052  4457  9230 10502  3124 12870 15166 16827  8876\n",
      "   692  7061 11528  5247  2314  6925 15740 12617  1536  7541  5448 18233\n",
      "  4195  1799 17042  2008  1547  5336 10085 19836  9850 10328  3330  5906\n",
      " 15950 16390  6172  9091   316   566  5998 11710  4264 19242  5076 15234\n",
      "  9610  6996]\n",
      "List of selected sample used in our tree: [  787 10912  5789  4723  4732 19244  2151 18307 17876 17482 13390  3577\n",
      "  3049  1089  7033  3334  8768  4681  7892  6342 19804  9876 16591 19344\n",
      " 17342 15987 19401  6826 14915 19632 18646 11398  9163 12313  2828  6639\n",
      "  1319  8891  3177 18471 10476  9677 18343 15749  9377 19560  9653  1554\n",
      "   822 18405]\n",
      "List of selected sample used in our tree: [17884 13909  7100  4510 16995  8997  8855 13922 10703 17750    25  5973\n",
      "  2064  7728  9285  8313  9653   731 11099 15477  7451  8543 12698  2197\n",
      "  9833 14214 14313  4722  7947  3572 19720 12312  2118 10420 19216 15527\n",
      "  3536   757  4768 18957 18181    38 10151  5987   148 14646  1456  7050\n",
      "  3492 11997]\n",
      "--- 48.66823601722717 sec ---\n"
     ]
    }
   ],
   "source": [
    "import time\n",
    "rf = RandomForest()\n",
    "start = time.time()\n",
    "\n",
    "#best test: data_train.iloc[:20000,:], labels[:20000], size = 300, n_trees = 20, depth=10; acc:74%\n",
    "rf = RandomForest()\n",
    "model = rf.fit(data_train.iloc[:20000,:], label_train.iloc[:20000], size = 50, n_trees = 10, depth=8, min_leaf = 1)\n",
    "\n",
    "print(\"--- %s sec ---\" % (time.time() - start))"
   ]
  },
  {
   "cell_type": "code",
   "execution_count": 53,
   "metadata": {},
   "outputs": [],
   "source": [
    "pred = rf.predict(x = data_test.values)"
   ]
  },
  {
   "cell_type": "code",
   "execution_count": 54,
   "metadata": {},
   "outputs": [],
   "source": [
    "pred = pred[0].astype(int)\n",
    "pred = pd.DataFrame(pred[0])[0]"
   ]
  },
  {
   "cell_type": "code",
   "execution_count": 55,
   "metadata": {},
   "outputs": [],
   "source": [
    "# Calculate accuracy\n",
    "def accuracy(y, pred):\n",
    "    n = 0\n",
    "    for i in range(len(y)):\n",
    "        if y[i] == pred[i]:\n",
    "            n += 1\n",
    "    return n / int(len(y))"
   ]
  },
  {
   "cell_type": "code",
   "execution_count": 56,
   "metadata": {},
   "outputs": [
    {
     "name": "stdout",
     "output_type": "stream",
     "text": [
      "Accuracy: 51%\n"
     ]
    }
   ],
   "source": [
    "acc = accuracy(label_test.values, pred.values)\n",
    "print(\"Accuracy: {0:.00%}\".format(acc))"
   ]
  },
  {
   "cell_type": "markdown",
   "metadata": {},
   "source": [
    "# Random Forest"
   ]
  },
  {
   "cell_type": "code",
   "execution_count": 109,
   "metadata": {},
   "outputs": [],
   "source": [
    "#Class for our Random Forest model\n",
    "class RandomForest():\n",
    "    \n",
    "    #Create our fit function: use this to fit the model\n",
    "    def fit(self, x, y, size, n_trees = 6, depth=10):\n",
    "        np.random.seed(100)\n",
    "        #populate our variables\n",
    "        self.x, self.y, self.size, self.depth  = x.values, y.values, size, depth\n",
    "        #create trees based on the number of n_trees\n",
    "        self.trees = []\n",
    "        for i in range(n_trees):\n",
    "            self.trees.append(self.create_tree())\n",
    "\n",
    "    #This model is use to create trees to populate our forest\n",
    "    def create_tree(self):\n",
    "        \n",
    "        #randomly select sample for each tree\n",
    "        sample_idx = np.random.permutation(len(self.y))[:self.size]\n",
    "        print(\"List of selected sample used in our tree:\",sample_idx)\n",
    "        \n",
    "        #list of index based on the size of our each tree size\n",
    "        self.id = np.array(range(len(sample_idx)))\n",
    "        \n",
    "        #call the decision tree function\n",
    "        return DecisionTree(self.x[sample_idx], self.y[sample_idx],\n",
    "                            self.id, \n",
    "                            depth = self.depth)\n",
    "    \n",
    "    #Use this to create prediction; we'll use the mode to pick the most common result\n",
    "    def predict(self, x):\n",
    "        return stats.mode([i.predict(x) for i in self.trees], axis=0)\n",
    "\n",
    "#Class for the decission tree to populate our Random Forest models\n",
    "\n",
    "class DecisionTree():\n",
    "    \n",
    "    #Function to create the trees. Here we put in all the variables\n",
    "    def __init__(self, x, y,id,depth=10):\n",
    "        self.x, self.y, self.id = x, y, id\n",
    "        self.depth = depth\n",
    "        self.length = len(self.id)\n",
    "        self.col_x = x.shape[1]\n",
    "        self.val = np.mean(y[self.id])\n",
    "        self.score = np.inf\n",
    "        self.find_split()\n",
    "    \n",
    "    #define the split for our tree and recall the Dicision Tree to create the lower child/ branch\n",
    "    def find_split(self):\n",
    "        #go to all column of x to find the best split\n",
    "        for i in range(self.col_x): self.fast_split(i)\n",
    "        if self.score == np.inf or self.depth <= 0: return \n",
    "        x = self.x[self.id,self.varidx]\n",
    "        left, right = self.id[np.where(x<=self.split)[0]], self.id[np.where(x>self.split)[0]]\n",
    "        #create the decision tree based on the index we have\n",
    "        self.left = DecisionTree(self.x, self.y, left, \n",
    "                                 depth=self.depth-1)\n",
    "        self.right = DecisionTree(self.x, self.y, right, \n",
    "                                  depth=self.depth-1)\n",
    "    \n",
    "  \n",
    "    \n",
    "    def fast_split(self, varidx):\n",
    "        x, y = self.x[self.id,varidx], self.y[self.id]\n",
    "        \n",
    "        #sort our values\n",
    "        sort_i = np.argsort(x, kind = \"heapsort\")\n",
    "        sort_y,sort_x = y[sort_i], x[sort_i]        \n",
    "        \n",
    "        left = list(sort_y)\n",
    "        right_count,right_sum,right_sum2,right = 0,0.,0.,[]\n",
    "\n",
    "        for i in range(0,self.length-2):\n",
    "            a = left.pop(0)\n",
    "            right_count += 1\n",
    "            right.append(a)\n",
    "            \n",
    "            if i<1 or sort_x[i]==sort_x[i+1]:\n",
    "                continue\n",
    "\n",
    "            #calculate the standard deviation\n",
    "            left_std = np.std(left)\n",
    "            right_std = np.std(right)\n",
    "            \n",
    "            #use std to get our score\n",
    "            curr_score = left_std*(self.length - right_count) + right_std  * (right_count)\n",
    "            \n",
    "            #Here we'll record the best split\n",
    "            if curr_score<self.score: \n",
    "                self.varidx,self.score,self.split = varidx,curr_score,sort_x[i]                                      \n",
    "                    \n",
    "                \n",
    "    #Function to create our prediction\n",
    "    def predict(self, data):\n",
    "        return np.array([self.pred(xi) for xi in data])\n",
    "\n",
    "    def pred(self, xi):\n",
    "        if self.score == float('inf') or self.depth <= 0: return self.val\n",
    "        t = self.left if xi[self.varidx]<=self.split else self.right\n",
    "        return t.pred(xi)"
   ]
  },
  {
   "cell_type": "code",
   "execution_count": 110,
   "metadata": {},
   "outputs": [
    {
     "name": "stdout",
     "output_type": "stream",
     "text": [
      "List of selected sample used in our tree: [ 2917  2234 14396  1781 11102   732  7692 10589 16098  4920  6601  7611\n",
      "  3825 18755  6862  3847  7256 13711 12389  9772  2535 11564 14222  1017\n",
      " 10121 13672 11271   124 10457  2829   439  2110 13636  7523 11490 14473\n",
      " 18324  5413  4977  4063  5964 13875 12475  5723 19565  6222 19889 17676\n",
      " 12013   189 18835 16797  5863  6764  1964   162  4074  9458 11046  3144\n",
      "  4440 13517 16567  4773  7068 16179 18386  1625 16401 13693  8799  2525\n",
      "  7094 19725 18035  4893  8142  2370  8536 19852  1713  7955  2975 12306\n",
      " 16917  3557 13461 14627 16329  5254 12605 13057   630 11888 10267  9175\n",
      "  1470  5324  1284 14330  2218  2943 14577 16072  7466  8838 18829 10406\n",
      " 17160  1983  8469 17776  6661  1951 10520 12144  4347 10885  9967 19742\n",
      " 13802  4348 12748  8063  3387  1257 17581 10147 18772  8782 14409 14677\n",
      "  7107 16500  9659 13144 13152  2356 18675  8829 16042  9594 12259  9752\n",
      "  2545 16077  6219 11089  6421  4369]\n",
      "List of selected sample used in our tree: [19506 11313  3213  9770  4511  9531 16313 10205 15042 16041 19325 13244\n",
      " 16813 13728 14950  8149 12024 11006 13423  6157  1877 14306 11452 19574\n",
      " 18976  8531 15613  1736 17705 12003  2509 19233 11162  5643  6571  9041\n",
      " 13557 13260 13190 15996  6929  1647 17595  8223 16027 14205 19708  8518\n",
      "  3376 14421 19602 15642 14559  6045 15143 14682 19053 15107 17311 14320\n",
      " 14218  7188 19833   340  5953 12231  8652 12954 15971 16285 16442 19526\n",
      " 14050  8517 12537 12786 14291 11135 16519   400  4126  8795  8326  1081\n",
      "  4757  7337   553 19609 18871 13708 17243  5718 12277  2620   319  1471\n",
      " 11410 13444 18028  8488 11780 15978 17409 19743 17131 14072 13626 16536\n",
      "  2810  9784 11413  8195 14745  2087 19752  9303  7650  4905  3627  4099\n",
      "  5889 18819  7483 18203  3119 19968 15194 14052 19336  6873 11604  4747\n",
      " 13307 18795 15363 10398 12309 11539  9358 10702  7623  7607 15269 17050\n",
      " 19916 19993  9188  8409 14304 18208]\n",
      "List of selected sample used in our tree: [ 9799 19176  3128 15991  5545  8528  5646  7448  6114 18785  7150  7479\n",
      "  3331  2067 10972  8737 18602 10519  9047  8485  1454 14353  4362  6928\n",
      "  2753  4390 15909  1510  6467 17149  5216  2878  5503 18516 16346  7098\n",
      " 14005  7523  9597  6324 14924  6458   775 19969 19241  5028  5182 17391\n",
      "  1378 12254 10802 15075 10329 18625 18406  7632 19060 11909 16847  6431\n",
      " 13910  3201  3216  3426 19016  5841  4271 13965 16534  2553  1646  3121\n",
      " 18541  4676  4752  3400  9497  4083 17307 12108  6330  5067 19703 14495\n",
      " 13470 15747 13050  4913    45 13241  3806 18964 16733 18569  8889 13580\n",
      " 12520 16117  1709  6318  4260  7031  9353 14964 17226 16574 10793 10340\n",
      "  7825   170 10829 17077 17039  9257  1810  8266 15557 10370 18360  4848\n",
      "  8849 11278 15465 13212  6382 10018 19900 18291 10786 16339  1327  5100\n",
      "  3023  3115 18309  5038  4050  5128  3639  9284  9726  7718  4807 13536\n",
      "  5144  7248 10807  3774  9242 17214]\n",
      "List of selected sample used in our tree: [19003  1437  4316 13228 14057 18820  9938 14621 19902  8198 19198 15510\n",
      "  2354  2700 11552  6200 10584   363 11099 11755 16749  3696  3129 15923\n",
      " 14334 10402 14586  3232 15111  8675 17837  9113  3565 19853 14508  6563\n",
      "   999 19334  1056  2655  4994  6110 10783 11670 19972  9509 19466  7033\n",
      "  8481  5925 15500 11858 19353  8363  6010  7254 17785 12740 11439 12772\n",
      " 11846  1797 18934 13977  7194 12985 16952 11883  5117 15931  8695 13126\n",
      "  3255 14162  8624 10412 17149 16706 11154 19774  8197  9636 12375 11793\n",
      "  2608   255  3901 12389 17286  4195 11766 16391  4811 10353 19158  8888\n",
      "  7853   393 17541 10354 14716  6396  7793 19987  6183 16766  2229 16782\n",
      "  3633 10831 14460 13115 17828  4959  2945 18076  1425 12057  4187   304\n",
      "  9930 10715  4453 17156  1494  2132 14534  5234 13399  3273  7966 19397\n",
      "  2523 13693  7095  3960 12788 15659  6494 12289  9409  6718  2711 15692\n",
      "  5846   873 19046 10096  5265 19154]\n",
      "List of selected sample used in our tree: [12079 12159 17140 16733  4425   854  7977 16296   995  5435 15328 10300\n",
      " 17905 16132  3820 16858  8957  7772 10350  9725 17263 11998  3675 13387\n",
      "  9828  5334 10883  3895  5349 12447  8596  7615 14111 11060 15104 19606\n",
      "  2897 18627 18848 17092  8754 12431  5952 16180 14443   654  8771 16696\n",
      "  1190  2603 16780 14497  2767 19903  9924  9743 17668  5239 17621  3923\n",
      " 16357  3930  9164 17467 18511 18706  1195  6600 12438 16539 13159 12518\n",
      "  6160  8864 18973 16544 17786 10662 17258  1661  1304 10346 11053 19367\n",
      " 10177  1113  5232  3996 19586 16038  7767  1480 13673  1798   961   321\n",
      " 18041 19348   112  4400  7662  1658  5365   102 11559  2851  3694   174\n",
      " 18651  2025 16775 15096 13644  6117 13211  1750  1701 13187 13059  1729\n",
      "  9529  8852  2096 18638  8619  8637  3852  6093 11025  9733  9808 19233\n",
      "  1271   485 10793  5519 16613 11672  1063 13762  8727 19145 11354 12519\n",
      "  6113  4456 16706 18489 11945 16807]\n",
      "List of selected sample used in our tree: [ 9470 19266 15436  3434   421  9346  5800 18168  3237   791  9961 19142\n",
      "  8844 10677 10889 16142 13606 16059 14375 10737 10723 11397  9300 16495\n",
      "   152  4785 16396 13978  1021   440  3948 12244  9121 17586  6419  8540\n",
      "  8050  7847  9412  4921  4764 14682  2092  1988 13539 18987   437 14448\n",
      " 12603  8768  1720 15123 17408  9878 12570 12906  4998  8028   241  2567\n",
      " 10709  3085  2564  5309  6172  9542 10029 11425 14284  6014  9372 19441\n",
      " 19335  4685  6665 13829 10039 12294 19997  8153  2056 14642 15850  3655\n",
      " 14252  6525 10637 18301 17587 14967  6883 17451  5783  3746 19110 19519\n",
      " 16106  5558 14212  3484  7176  1239  5945  4098  5142 15126  6683  9007\n",
      "  6049  5580 11316  4939 14831 16832 16885  3868 19678  6834   434 13556\n",
      "  7978 14065  8453  3039 11775 17225  5755 15241 16047 16345 16446 19688\n",
      "  4042 17851 16383 11125  8264  5845 19504  5209  7587 17810 17527 12563\n",
      "  5515 14552  7141  1086  8686 10851]\n",
      "List of selected sample used in our tree: [ 4319   153  7526 15151 10758  8322  9763 11489  2137 19321  5769 12727\n",
      " 12398 11151  5425  3849 15948  8753 16386  4349 18192   314 14032 18652\n",
      " 16375 18967  8508 17608 14564  1721 10545  5723  9406  5966  9143 13922\n",
      "  6271 16995 11973  6344 10922   213  6243  4419 19278 16392  9114 18595\n",
      " 16706 13293 13268 13601 16557 12108 15242  5556 17396  6737 16935 19741\n",
      " 10077 10883  7818 18015 13365 12898  6121 16681  1342 19092 15191  7304\n",
      " 13661  9235  4815  7939 17025  3210 16071  8204  9439  1589  8999  5603\n",
      "  6393  9515  2726  8712  9765 19579 14804 17677 10688 15040  7632  7937\n",
      "  8430  1919 18190 10641  2899  2999  8806 17216  8209 13047 14544 13838\n",
      " 12192 11018 10772 12283 19905  7398 19378  4787 14852 18845  4610  8954\n",
      "  2305   288  4685  1744  2025 14150 15578 13369 19093 11090 10448  2401\n",
      " 10439 18132 17147  7591 15950   104 12564 18520  7696  9372 16319 14058\n",
      "  9360  5877  4640  7758 10672  5102]\n",
      "List of selected sample used in our tree: [ 3714 18474  8771  7052  4457  9230 10502  3124 12870 15166 16827  8876\n",
      "   692  7061 11528  5247  2314  6925 15740 12617  1536  7541  5448 18233\n",
      "  4195  1799 17042  2008  1547  5336 10085 19836  9850 10328  3330  5906\n",
      " 15950 16390  6172  9091   316   566  5998 11710  4264 19242  5076 15234\n",
      "  9610  6996 18700 11803  5600 16174  9434  7144 19939  4599  9437  1717\n",
      "  2196 10548 14803 14641 11088 18735 14831 19418 17360 10776 17762  2840\n",
      " 10241  7267  8975  4531  5219 10869  9458 11314 10801  5250   631 14244\n",
      " 18273 14850 15363 12208  4295 13669  4802  5683  7988  7501 10416  4555\n",
      "  5378  4668  5145  5294  5703   555 10912 14975   615 10723  6484  5914\n",
      "   505  5216 11785 10904 11464 13820  1148  9724 10905 15986  6018 18156\n",
      "  8555  7173  2829 13513 18968 11178  8208   997 13842 17903 13749 15993\n",
      "  3807  5037 13798  2477   338  7358  5083 19347 10545  6901 19916 17027\n",
      "  1293 14653  9421  2161  2722  4704]\n",
      "List of selected sample used in our tree: [  787 10912  5789  4723  4732 19244  2151 18307 17876 17482 13390  3577\n",
      "  3049  1089  7033  3334  8768  4681  7892  6342 19804  9876 16591 19344\n",
      " 17342 15987 19401  6826 14915 19632 18646 11398  9163 12313  2828  6639\n",
      "  1319  8891  3177 18471 10476  9677 18343 15749  9377 19560  9653  1554\n",
      "   822 18405  5747 17976 17056  2987 18387 17476  1082 12696 17024 14666\n",
      "  8146 10251 19266 15110  7035  8425 14095  8517  1411 13994 15420 10643\n",
      " 15017  8359 17195  6617  7701 19463 19963 19302  8456  7278  4821  9215\n",
      "  9582 11591  8718  4038 17694  9228  9568  8760   231  6211  5958 16503\n",
      "  2655  7329 11675   185  9066 16241 13231 12083 12716  9880 15192 19532\n",
      " 16205  6178 10521  3539  7026 13417  4785 10170 18367  8596  5123 19334\n",
      " 10555 14532 10415 17177 12059 16081  2103  2769 18118   550  9093  7805\n",
      "  3869  5929 14918 10159 14698  6922  4433 16498 10614  7162   106 18670\n",
      "  8950   646 14910 17305 13295  5230]\n"
     ]
    },
    {
     "name": "stdout",
     "output_type": "stream",
     "text": [
      "List of selected sample used in our tree: [17884 13909  7100  4510 16995  8997  8855 13922 10703 17750    25  5973\n",
      "  2064  7728  9285  8313  9653   731 11099 15477  7451  8543 12698  2197\n",
      "  9833 14214 14313  4722  7947  3572 19720 12312  2118 10420 19216 15527\n",
      "  3536   757  4768 18957 18181    38 10151  5987   148 14646  1456  7050\n",
      "  3492 11997   416  3004  2995 16837 10257 14635 18938  5606 19009  6240\n",
      "   287 14821 10492  7830  4015 12059  5672  8816  3687 10203 14610 19977\n",
      " 13643  4211  7085  3265 12447 11643 11382  8310  5213 12769  6045  8409\n",
      " 12370 17675 19536 16667 17929 18729 14822  7066 14139  5133 17744 18480\n",
      " 11322 12998 17201  6239  1051 19951  1879    64 14640  2390  9320 12001\n",
      " 12898 19623  3308 15016  8480 17324  8981 13551  3694 19169  1121   274\n",
      " 11352 10260  8771 10035  8714 19890  9071  6786 15507  5206  2440 13175\n",
      "  5466 12989 10827 10475  2078  3202  5354  8453  1935 11238  2490 14533\n",
      "  1230 17401  6536  7945  3333 11974]\n",
      "List of selected sample used in our tree: [11415  3614   771 19579  4765  2555  4477 17244 19123  7735  6013 15376\n",
      "  3839 17373  8300  8935 12621 10994  6530 15849  6579  7260  7170 11552\n",
      " 18264 16106 14049  6732 18862  6249  7558 17751  1064 14567 13237 17012\n",
      " 12148  8603  6660  7433  5246  1536 14036  3412  6194  7554 19983   188\n",
      "  9904  5194 17590 18829  5508 13211 16022 19885 13774 18568  1613 14219\n",
      " 18852  5672 17645  4048 16744 17020 14744 18257 13544 14655 17529 10656\n",
      "  1228 11102  3476 17230  1226  3276 14596 16942  2327 11618 11665 18095\n",
      "  5057  3442 13206  2424   555  8060  8874 19303 13217  3466 15189  4033\n",
      "  9845 18385   714 12866 19393  8222  7600 14541  5762  8087 11053 13865\n",
      "  3308  1361 15757 13319  1945  6719  2517 11927  2501 19462  9314   590\n",
      "  3321 19501  9174 13850  9195 17345 19543  1363  2815 16277 14590 17499\n",
      "  8495  6295 18908  1809  7994 15873 14257 14317 10851 11267 10435  1913\n",
      "  7232  8448  3192  4331  5851 16900]\n",
      "List of selected sample used in our tree: [  438 17387  5033  5487 14620 19503  7284 14689  7777  7135  2696   619\n",
      "  7961 10067 16474  2667 17328  5760 12570 14792  1678  9814  5543   422\n",
      " 15230 15799  9581 13072  1607  7585 11266  6751 14845  1606  7751  9276\n",
      "  7573  1592 15010 19533 11516 12459  5954   541  8729 11086 10319  4549\n",
      " 19171  2167 15380  6695 15979 13007 18646  7848 17156 17960  9816 14014\n",
      " 12192 13819 18221  4493 16493  3613 12368  3734   703  8921 15548 12747\n",
      "  6087 10106 13171 15352 14523  1023  8014  9889 15026 11175   295  6780\n",
      " 17524 10752  9755   762  4554  1766  1397  7813  1270 15225  9971 18552\n",
      "  1653  1117  4882 13304  4835  1314  8665  3384  2096 13598 12490 17116\n",
      "   674 10313  1079   585 16666 18641 17408  8391 12968    98 19509   302\n",
      " 16360 13677  9495  5932  3514 19033 14556 14489  2271 17666   146  5278\n",
      "  1928 12076  6778 10350 18828 17573 11244 19515  8259 13130 18124 15183\n",
      "  8350  8653 16899 13038  2436 14342]\n"
     ]
    }
   ],
   "source": [
    "import time\n",
    "rf = RandomForest()\n",
    "\n",
    "start = time.time()\n",
    "\n",
    "#best test: rf.fit(data_train.iloc[:20000,:], label_train.iloc[:20000], size = 150, n_trees = 12, depth=8) time: 550sec\n",
    "rf = RandomForest()\n",
    "model = rf.fit(data_train.iloc[:20000,:], label_train.iloc[:20000], size = 150, n_trees = 12, depth=8)"
   ]
  },
  {
   "cell_type": "code",
   "execution_count": 111,
   "metadata": {},
   "outputs": [
    {
     "name": "stdout",
     "output_type": "stream",
     "text": [
      "Accuracy: 71%\n",
      "546.551365852356 sec\n"
     ]
    }
   ],
   "source": [
    "data_validation = data_train.iloc[20000:30000,:]\n",
    "y = label_train.iloc[20000:30000].values\n",
    "pred = rf.predict(x = data_validation.values)\n",
    "pred = pred[0].astype(int)\n",
    "pred = pd.DataFrame(pred[0])[0]\n",
    "\n",
    "# Calculate accuracy\n",
    "def accuracy(y, pred):\n",
    "    n = 0\n",
    "    for i in range(len(y)):\n",
    "        if y[i] == pred[i]:\n",
    "            n += 1\n",
    "    return n / int(len(y))\n",
    "\n",
    "acc = accuracy(y, pred.values)\n",
    "print(\"Accuracy: {0:.00%}\".format(acc))\n",
    "print(\"%s sec\" % (time.time() - start))"
   ]
  },
  {
   "cell_type": "code",
   "execution_count": 115,
   "metadata": {},
   "outputs": [
    {
     "name": "stdout",
     "output_type": "stream",
     "text": [
      "Accuracy: 70%\n",
      "--- 575.789764881134 sec ---\n"
     ]
    }
   ],
   "source": [
    "pred = rf.predict(x = data_test.values)\n",
    "pred = pred[0].astype(int)\n",
    "pred = pd.DataFrame(pred[0])[0]\n",
    "\n",
    "# Calculate accuracy\n",
    "def accuracy(y, pred):\n",
    "    n = 0\n",
    "    for i in range(len(y)):\n",
    "        if y[i] == pred[i]:\n",
    "            n += 1\n",
    "    return n / int(len(y))\n",
    "\n",
    "acc = accuracy(label_test.values, pred.values)\n",
    "print(\"Accuracy: {0:.00%}\".format(acc))\n",
    "print(\"--- %s sec ---\" % (time.time() - start))"
   ]
  },
  {
   "cell_type": "markdown",
   "metadata": {},
   "source": [
    "https://towardsdatascience.com/random-forests-and-decision-trees-from-scratch-in-python-3e4fa5ae4249"
   ]
  },
  {
   "cell_type": "markdown",
   "metadata": {},
   "source": [
    "# Prepare Labels For Our Output"
   ]
  },
  {
   "cell_type": "code",
   "execution_count": 130,
   "metadata": {},
   "outputs": [
    {
     "name": "stdout",
     "output_type": "stream",
     "text": [
      "(10000, 784)\n"
     ]
    }
   ],
   "source": [
    "# using H['datatest'], H['labeltest'] for test dataset.\n",
    "\n",
    "with h5py.File('images_testing.h5','r') as H:\n",
    "    data_test_fin = np.copy(H['datatest'])\n",
    "\n",
    "print(data_test_fin.shape)"
   ]
  },
  {
   "cell_type": "code",
   "execution_count": 138,
   "metadata": {},
   "outputs": [],
   "source": [
    "output = rf.predict(x = data_test_fin)\n",
    "output = output[0].astype(int)\n",
    "output = pd.DataFrame(output[0])[0]"
   ]
  },
  {
   "cell_type": "markdown",
   "metadata": {},
   "source": [
    "### How to output the prediction\n",
    "Output a file “predicted_labels.h5” that can be loaded in the same way as above. You may use the following code to generate an output file that meets the requirement:"
   ]
  },
  {
   "cell_type": "code",
   "execution_count": 1,
   "metadata": {},
   "outputs": [
    {
     "ename": "NameError",
     "evalue": "name 'h5py' is not defined",
     "output_type": "error",
     "traceback": [
      "\u001b[0;31m---------------------------------------------------------------------------\u001b[0m",
      "\u001b[0;31mNameError\u001b[0m                                 Traceback (most recent call last)",
      "\u001b[0;32m<ipython-input-1-1229b5e4acf3>\u001b[0m in \u001b[0;36m<module>\u001b[0;34m\u001b[0m\n\u001b[1;32m      1\u001b[0m \u001b[0;31m# assume output is the predicted labels\u001b[0m\u001b[0;34m\u001b[0m\u001b[0;34m\u001b[0m\u001b[0;34m\u001b[0m\u001b[0m\n\u001b[0;32m----> 2\u001b[0;31m \u001b[0;32mwith\u001b[0m \u001b[0mh5py\u001b[0m\u001b[0;34m.\u001b[0m\u001b[0mFile\u001b[0m\u001b[0;34m(\u001b[0m\u001b[0;34m'predicted_labels.h5'\u001b[0m\u001b[0;34m,\u001b[0m\u001b[0;34m'w'\u001b[0m\u001b[0;34m)\u001b[0m \u001b[0;32mas\u001b[0m \u001b[0mH\u001b[0m\u001b[0;34m:\u001b[0m\u001b[0;34m\u001b[0m\u001b[0;34m\u001b[0m\u001b[0m\n\u001b[0m\u001b[1;32m      3\u001b[0m     \u001b[0mH\u001b[0m\u001b[0;34m.\u001b[0m\u001b[0mcreate_dataset\u001b[0m\u001b[0;34m(\u001b[0m\u001b[0;34m'output'\u001b[0m\u001b[0;34m,\u001b[0m\u001b[0mdata\u001b[0m\u001b[0;34m=\u001b[0m\u001b[0moutput\u001b[0m\u001b[0;34m.\u001b[0m\u001b[0mvalues\u001b[0m\u001b[0;34m)\u001b[0m\u001b[0;34m\u001b[0m\u001b[0;34m\u001b[0m\u001b[0m\n",
      "\u001b[0;31mNameError\u001b[0m: name 'h5py' is not defined"
     ]
    }
   ],
   "source": [
    "# assume output is the predicted labels\n",
    "with h5py.File('predicted_labels.h5','w') as H:\n",
    "    H.create_dataset('output',data=output.values)"
   ]
  },
  {
   "cell_type": "markdown",
   "metadata": {
    "nbpresent": {
     "id": "aca7ed33-2da5-4fbf-a861-8a886f4020a8"
    }
   },
   "source": [
    "We will load the output file using the code for loading data above. It is your responsibility to make sure the output file can be correctly loaded using this code.\n",
    "The performance of your classifier will be evaluated in terms of the top-1 accuracy metric, i.e.<br /><br />\n",
    "<div style=\"text-align: center\"> $$\\text{Accuracy} = \\frac{\\text{Number of correct classifications}}{\\text{Total number of test examples used}} * 100\\%$$"
   ]
  },
  {
   "cell_type": "markdown",
   "metadata": {
    "nbpresent": {
     "id": "1e4a01db-cd92-48f8-bdaa-21c39456cfcb"
    }
   },
   "source": [
    "## Task description\n",
    "Each group consists of 3 students. Your task is to determine / build a classifier for the given data set to classify images into categories and write a report. The score allocation is as follows:\n",
    "    * Classifier (code): max 20 points\n",
    "    * Report: max 80 points\n",
    "Please refer to the rubric in Canvas for detailed marking scheme. The report and the code are to be submitted in Canvas by the due date.<br />\n",
    "This assignment must be submitted in Python3. Although you are allowed to use external libraries for optimisation and linear algebraic calculations, you are NOT allowed to use external libraries for basic pre-processing or classification. For instance, you are allowed to use scipy.optimize for gradient descent or scipy.linalg.svd for matrix decomposition. However, you are NOT allowed to use sklearn.svm for classification (i.e. you have to implement the classifier yourself). If you have any ambiguity whether you can use a particular library or a function, please refer to Canvas -> Modules -> ”Assignment 1 FAQs” for clarification."
   ]
  },
  {
   "cell_type": "markdown",
   "metadata": {},
   "source": [
    "## Instructions to hand in the assignment\n",
    "### Go to Canvas -> Assignments -> \"Assignment 1\" and submit 2 files only: the report and the code file.\n",
    "1) Report (a .pdf file): The report should include each member’s details (student IDs and names)<br />\n",
    "2) Code (a .ipynb file): The code must be able to be run with the following folder structure:\n",
    "    - Algorithm (the root folder): Your .ipynb file containing Python code will be placed on this folder when we test and run your code. \n",
    "    - Input (a sub-folder under Algorithm): We will copy the test dataset into this Input folder when we test and run your code. Please make sure your code is able to read the test dataset from this Input folder.\n",
    "    - Output (a sub-folder under Algorithm): Your code must be able to generate a prediction file named “predicted_labels.h5” to be saved in this Output folder. The prediction file should contain predicted labels of the test dataset. We will use your prediction output file for grading purpose.\n",
    "\n",
    "Since this is a group work, only one student from your group needs to submit all the files which must be named with student ID numbers of all your group members separated by underscores e.g. “SID1xxxx_SID2xxxx_SID3xxxx.pdf”,  “SID1xxxx_SID2xxxx_SID3xxxx.ipynb”."
   ]
  },
  {
   "cell_type": "markdown",
   "metadata": {},
   "source": [
    "### Your submission should include the report and the code. \n",
    "A plagiarism checker will be used. Clearly provide instructions on how to run your code in the Appendix section of your report."
   ]
  },
  {
   "cell_type": "markdown",
   "metadata": {},
   "source": [
    "### The report must clearly show :\n",
    "    1. Details of your classifier \n",
    "    2. The predicted results from your classifier on test examples\n",
    "    3. Run-time\n",
    "    4. Hardware and software specifications of the computer that you used for performance evaluation"
   ]
  },
  {
   "cell_type": "markdown",
   "metadata": {},
   "source": [
    "### A template for writing the report \n",
    "Note that you have to strictly follow the format of the template. The maximum length of the report is 20 (including references)."
   ]
  },
  {
   "cell_type": "markdown",
   "metadata": {},
   "source": [
    "### A penalty of MINUS 20 percent (-20%) for each day after the due date. \n",
    "The maximum delay for assignment submission is 5 (five) days, after which assignment will not be accepted.\n",
    "\n",
    "**You should upload your assignment at least half a day or one day prior to the submission deadline to avoid network congestion**.\n",
    "\n",
    "Canvas may not be able to handle a large number of submission happening at the same time. If you submit your assignment at a time close to the deadline, a submission error may occur causing your submission to be considered late. Penalty will be applied to late submission regardless of issues. "
   ]
  },
  {
   "cell_type": "markdown",
   "metadata": {},
   "source": [
    "### All files required for assignment 1 can be downloaded from Canvas -> Assignments -> Assignment 1\n"
   ]
  }
 ],
 "metadata": {
  "anaconda-cloud": {},
  "kernelspec": {
   "display_name": "Python 3",
   "language": "python",
   "name": "python3"
  },
  "language_info": {
   "codemirror_mode": {
    "name": "ipython",
    "version": 3
   },
   "file_extension": ".py",
   "mimetype": "text/x-python",
   "name": "python",
   "nbconvert_exporter": "python",
   "pygments_lexer": "ipython3",
   "version": "3.7.1"
  }
 },
 "nbformat": 4,
 "nbformat_minor": 2
}
